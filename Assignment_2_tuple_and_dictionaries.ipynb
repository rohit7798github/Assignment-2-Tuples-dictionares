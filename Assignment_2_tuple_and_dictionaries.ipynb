{
  "nbformat": 4,
  "nbformat_minor": 0,
  "metadata": {
    "colab": {
      "provenance": [],
      "authorship_tag": "ABX9TyNqaUMhq1dTnOHSau4fhUDN",
      "include_colab_link": true
    },
    "kernelspec": {
      "name": "python3",
      "display_name": "Python 3"
    },
    "language_info": {
      "name": "python"
    }
  },
  "cells": [
    {
      "cell_type": "markdown",
      "metadata": {
        "id": "view-in-github",
        "colab_type": "text"
      },
      "source": [
        "<a href=\"https://colab.research.google.com/github/rohit7798github/Assignment-2-Tuples-dictionares/blob/main/Assignment_2_tuple_and_dictionaries.ipynb\" target=\"_parent\"><img src=\"https://colab.research.google.com/assets/colab-badge.svg\" alt=\"Open In Colab\"/></a>"
      ]
    },
    {
      "cell_type": "code",
      "execution_count": 1,
      "metadata": {
        "colab": {
          "base_uri": "https://localhost:8080/"
        },
        "id": "NjD9IOLfgihO",
        "outputId": "c7802a49-bf72-43e0-d152-e0e9e1c6ad60"
      },
      "outputs": [
        {
          "output_type": "stream",
          "name": "stdout",
          "text": [
            "[(2, 1), (1, 2), (2, 3), (4, 4), (2, 5)]\n"
          ]
        }
      ],
      "source": [
        "def last(n): \n",
        "  return n[-1]\n",
        "\n",
        "def sort_list_last(tuples):\n",
        "  return sorted(tuples, key=last)\n",
        "\n",
        "print(sort_list_last([(2, 5), (1, 2), (4, 4), (2, 3), (2, 1)]))"
      ]
    }
  ]
}